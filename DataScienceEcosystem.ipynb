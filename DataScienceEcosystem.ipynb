{
 "cells": [
  {
   "cell_type": "markdown",
   "id": "bdf2e446",
   "metadata": {},
   "source": [
    "# Data Science Tools and Ecosystem"
   ]
  },
  {
   "cell_type": "markdown",
   "id": "669c5faf",
   "metadata": {},
   "source": [
    "## In this notebook, Data Science Tools and Ecosystem are summarized."
   ]
  },
  {
   "cell_type": "markdown",
   "id": "68184beb",
   "metadata": {},
   "source": [
    "### Objectives:\n",
    "\n",
    " - List popular languages for Data Science\n",
    " - Commonly used libraries used by Data Scientists\n",
    " - Few examples of evaluating arithmetic expressions in Python"
   ]
  },
  {
   "cell_type": "markdown",
   "id": "7f1c6eba",
   "metadata": {},
   "source": [
    "### Some of the popular languages that Data Scientists use are:\n",
    "\n",
    " 1. Python\n",
    " 2. R\n",
    " 3. Scala\n",
    " 4. SQL\n",
    " 5. Julia"
   ]
  },
  {
   "cell_type": "markdown",
   "id": "994e6f2c",
   "metadata": {},
   "source": [
    "### Some of the commonly used libraries used by Data Scientists include:\n",
    "\n",
    " 1. Numpy\n",
    " 2. Pandas\n",
    " 3. Matplotlib\n",
    " 4. SciKit-Learn\n",
    " 5. TensorFlow"
   ]
  },
  {
   "cell_type": "markdown",
   "id": "d3feb02e",
   "metadata": {},
   "source": [
    "   | Data Science Tools|\n",
    "   |:------------------------------:|\n",
    "   |R Studio |\n",
    "   |TensorFlow | \n",
    "   |Apache Spark|"
   ]
  },
  {
   "cell_type": "markdown",
   "id": "adc3d390",
   "metadata": {},
   "source": [
    "### Below are a few examples of evaluating arithmetic expressions in Python\n",
    "\n",
    "r1 = 4 ** 3  \n",
    "print(r1)    \n",
    "\n",
    "r2 = 12 - 7  \n",
    "print(r2)    \n",
    "\n",
    "r3 = 10 * 2   \n",
    "print(r3)"
   ]
  },
  {
   "cell_type": "code",
   "execution_count": 1,
   "id": "c558083b",
   "metadata": {},
   "outputs": [
    {
     "name": "stdout",
     "output_type": "stream",
     "text": [
      "17\n"
     ]
    }
   ],
   "source": [
    "### This a simple arithmetic expression to mutiply then add integers\n",
    "a=(3*4)+5\n",
    "print(a)"
   ]
  },
  {
   "cell_type": "code",
   "execution_count": 2,
   "id": "f2c7b0da",
   "metadata": {},
   "outputs": [
    {
     "name": "stdout",
     "output_type": "stream",
     "text": [
      "3.3333333333333335\n"
     ]
    }
   ],
   "source": [
    "# This will convert 200 minutes to hours by diving by 60\n",
    "minutes = 200\n",
    "hours = minutes / 60\n",
    "print(hours)"
   ]
  },
  {
   "cell_type": "markdown",
   "id": "c93c6e1a",
   "metadata": {},
   "source": [
    "## Author\n",
    "Kousik Naskar"
   ]
  }
 ],
 "metadata": {
  "kernelspec": {
   "display_name": "Python 3 (ipykernel)",
   "language": "python",
   "name": "python3"
  },
  "language_info": {
   "codemirror_mode": {
    "name": "ipython",
    "version": 3
   },
   "file_extension": ".py",
   "mimetype": "text/x-python",
   "name": "python",
   "nbconvert_exporter": "python",
   "pygments_lexer": "ipython3",
   "version": "3.10.9"
  }
 },
 "nbformat": 4,
 "nbformat_minor": 5
}
